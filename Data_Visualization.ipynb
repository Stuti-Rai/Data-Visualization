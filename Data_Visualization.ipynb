{
 "cells": [
  {
   "cell_type": "code",
   "execution_count": 1,
   "id": "26c81492",
   "metadata": {},
   "outputs": [],
   "source": [
    "#Assignment 2:Data Visualization"
   ]
  },
  {
   "cell_type": "code",
   "execution_count": 3,
   "id": "aba5c554",
   "metadata": {},
   "outputs": [],
   "source": [
    "#importing modules\n",
    "import numpy as np\n",
    "import pandas as pd\n",
    "import matplotlib.pyplot as plt"
   ]
  },
  {
   "cell_type": "code",
   "execution_count": 4,
   "id": "4170e5f3",
   "metadata": {},
   "outputs": [],
   "source": [
    "def Logarithmic():\n",
    "    x=np.arange(1,20,1.25)\n",
    "    z=np.log(x**2+5)\n",
    "    plt.plot(x,z,'3',linestyle='solid',color='blue',label='Logarithmic')\n",
    "    plt.legend(loc='upper left')\n",
    "    plt.xlabel(\"Random Values\")\n",
    "    plt.ylabel(\"Logarithmic\")\n",
    "    plt.title(\"Logarithmic-Function\")\n",
    "    plt.show()\n"
   ]
  },
  {
   "cell_type": "code",
   "execution_count": 5,
   "id": "89e19c7c",
   "metadata": {},
   "outputs": [],
   "source": [
    "def algebra_function():\n",
    "    a=np.arange(1,20,1.25)\n",
    "    b=a**2+a\n",
    "    c=a**3+b+a\n",
    "    plt.plot(a,b,'x',linestyle='solid',color='g',label='x**2+x')\n",
    "    plt.plot(a,c,'+',linestyle='solid',color='r',label='x**3+x**2+x')\n",
    "    plt.legend(loc='upper left')\n",
    "    plt.xlabel(\"Random-Values\")\n",
    "    plt.title(\"Algebraic-Functions\")\n",
    "    plt.show()"
   ]
  },
  {
   "cell_type": "code",
   "execution_count": 6,
   "id": "18d4c3e0",
   "metadata": {},
   "outputs": [],
   "source": [
    "#Applying Data Visualization in the dataset:StudentsPerformance"
   ]
  },
  {
   "cell_type": "code",
   "execution_count": 7,
   "id": "1ef51d16",
   "metadata": {},
   "outputs": [],
   "source": [
    "#Loading the csv file"
   ]
  },
  {
   "cell_type": "code",
   "execution_count": 8,
   "id": "69241c0b",
   "metadata": {},
   "outputs": [],
   "source": [
    "df=pd.read_csv('StudentsPerformance.csv')"
   ]
  },
  {
   "cell_type": "code",
   "execution_count": 9,
   "id": "003f7b41",
   "metadata": {},
   "outputs": [
    {
     "data": {
      "text/html": [
       "<div>\n",
       "<style scoped>\n",
       "    .dataframe tbody tr th:only-of-type {\n",
       "        vertical-align: middle;\n",
       "    }\n",
       "\n",
       "    .dataframe tbody tr th {\n",
       "        vertical-align: top;\n",
       "    }\n",
       "\n",
       "    .dataframe thead th {\n",
       "        text-align: right;\n",
       "    }\n",
       "</style>\n",
       "<table border=\"1\" class=\"dataframe\">\n",
       "  <thead>\n",
       "    <tr style=\"text-align: right;\">\n",
       "      <th></th>\n",
       "      <th>gender</th>\n",
       "      <th>race/ethnicity</th>\n",
       "      <th>parental level of education</th>\n",
       "      <th>lunch</th>\n",
       "      <th>test preparation course</th>\n",
       "      <th>math score</th>\n",
       "      <th>reading score</th>\n",
       "      <th>writing score</th>\n",
       "    </tr>\n",
       "  </thead>\n",
       "  <tbody>\n",
       "    <tr>\n",
       "      <th>0</th>\n",
       "      <td>female</td>\n",
       "      <td>group B</td>\n",
       "      <td>bachelor's degree</td>\n",
       "      <td>standard</td>\n",
       "      <td>none</td>\n",
       "      <td>72</td>\n",
       "      <td>72</td>\n",
       "      <td>74</td>\n",
       "    </tr>\n",
       "    <tr>\n",
       "      <th>1</th>\n",
       "      <td>female</td>\n",
       "      <td>group C</td>\n",
       "      <td>some college</td>\n",
       "      <td>standard</td>\n",
       "      <td>completed</td>\n",
       "      <td>69</td>\n",
       "      <td>90</td>\n",
       "      <td>88</td>\n",
       "    </tr>\n",
       "    <tr>\n",
       "      <th>2</th>\n",
       "      <td>female</td>\n",
       "      <td>group B</td>\n",
       "      <td>master's degree</td>\n",
       "      <td>standard</td>\n",
       "      <td>none</td>\n",
       "      <td>90</td>\n",
       "      <td>95</td>\n",
       "      <td>93</td>\n",
       "    </tr>\n",
       "    <tr>\n",
       "      <th>3</th>\n",
       "      <td>male</td>\n",
       "      <td>group A</td>\n",
       "      <td>associate's degree</td>\n",
       "      <td>free/reduced</td>\n",
       "      <td>none</td>\n",
       "      <td>47</td>\n",
       "      <td>57</td>\n",
       "      <td>44</td>\n",
       "    </tr>\n",
       "    <tr>\n",
       "      <th>4</th>\n",
       "      <td>male</td>\n",
       "      <td>group C</td>\n",
       "      <td>some college</td>\n",
       "      <td>standard</td>\n",
       "      <td>none</td>\n",
       "      <td>76</td>\n",
       "      <td>78</td>\n",
       "      <td>75</td>\n",
       "    </tr>\n",
       "    <tr>\n",
       "      <th>...</th>\n",
       "      <td>...</td>\n",
       "      <td>...</td>\n",
       "      <td>...</td>\n",
       "      <td>...</td>\n",
       "      <td>...</td>\n",
       "      <td>...</td>\n",
       "      <td>...</td>\n",
       "      <td>...</td>\n",
       "    </tr>\n",
       "    <tr>\n",
       "      <th>995</th>\n",
       "      <td>female</td>\n",
       "      <td>group E</td>\n",
       "      <td>master's degree</td>\n",
       "      <td>standard</td>\n",
       "      <td>completed</td>\n",
       "      <td>88</td>\n",
       "      <td>99</td>\n",
       "      <td>95</td>\n",
       "    </tr>\n",
       "    <tr>\n",
       "      <th>996</th>\n",
       "      <td>male</td>\n",
       "      <td>group C</td>\n",
       "      <td>high school</td>\n",
       "      <td>free/reduced</td>\n",
       "      <td>none</td>\n",
       "      <td>62</td>\n",
       "      <td>55</td>\n",
       "      <td>55</td>\n",
       "    </tr>\n",
       "    <tr>\n",
       "      <th>997</th>\n",
       "      <td>female</td>\n",
       "      <td>group C</td>\n",
       "      <td>high school</td>\n",
       "      <td>free/reduced</td>\n",
       "      <td>completed</td>\n",
       "      <td>59</td>\n",
       "      <td>71</td>\n",
       "      <td>65</td>\n",
       "    </tr>\n",
       "    <tr>\n",
       "      <th>998</th>\n",
       "      <td>female</td>\n",
       "      <td>group D</td>\n",
       "      <td>some college</td>\n",
       "      <td>standard</td>\n",
       "      <td>completed</td>\n",
       "      <td>68</td>\n",
       "      <td>78</td>\n",
       "      <td>77</td>\n",
       "    </tr>\n",
       "    <tr>\n",
       "      <th>999</th>\n",
       "      <td>female</td>\n",
       "      <td>group D</td>\n",
       "      <td>some college</td>\n",
       "      <td>free/reduced</td>\n",
       "      <td>none</td>\n",
       "      <td>77</td>\n",
       "      <td>86</td>\n",
       "      <td>86</td>\n",
       "    </tr>\n",
       "  </tbody>\n",
       "</table>\n",
       "<p>1000 rows × 8 columns</p>\n",
       "</div>"
      ],
      "text/plain": [
       "     gender race/ethnicity parental level of education         lunch  \\\n",
       "0    female        group B           bachelor's degree      standard   \n",
       "1    female        group C                some college      standard   \n",
       "2    female        group B             master's degree      standard   \n",
       "3      male        group A          associate's degree  free/reduced   \n",
       "4      male        group C                some college      standard   \n",
       "..      ...            ...                         ...           ...   \n",
       "995  female        group E             master's degree      standard   \n",
       "996    male        group C                 high school  free/reduced   \n",
       "997  female        group C                 high school  free/reduced   \n",
       "998  female        group D                some college      standard   \n",
       "999  female        group D                some college  free/reduced   \n",
       "\n",
       "    test preparation course  math score  reading score  writing score  \n",
       "0                      none          72             72             74  \n",
       "1                 completed          69             90             88  \n",
       "2                      none          90             95             93  \n",
       "3                      none          47             57             44  \n",
       "4                      none          76             78             75  \n",
       "..                      ...         ...            ...            ...  \n",
       "995               completed          88             99             95  \n",
       "996                    none          62             55             55  \n",
       "997               completed          59             71             65  \n",
       "998               completed          68             78             77  \n",
       "999                    none          77             86             86  \n",
       "\n",
       "[1000 rows x 8 columns]"
      ]
     },
     "execution_count": 9,
     "metadata": {},
     "output_type": "execute_result"
    }
   ],
   "source": [
    "df"
   ]
  },
  {
   "cell_type": "code",
   "execution_count": 10,
   "id": "9f861d49",
   "metadata": {},
   "outputs": [
    {
     "data": {
      "text/html": [
       "<div>\n",
       "<style scoped>\n",
       "    .dataframe tbody tr th:only-of-type {\n",
       "        vertical-align: middle;\n",
       "    }\n",
       "\n",
       "    .dataframe tbody tr th {\n",
       "        vertical-align: top;\n",
       "    }\n",
       "\n",
       "    .dataframe thead th {\n",
       "        text-align: right;\n",
       "    }\n",
       "</style>\n",
       "<table border=\"1\" class=\"dataframe\">\n",
       "  <thead>\n",
       "    <tr style=\"text-align: right;\">\n",
       "      <th></th>\n",
       "      <th>math score</th>\n",
       "      <th>reading score</th>\n",
       "      <th>writing score</th>\n",
       "    </tr>\n",
       "  </thead>\n",
       "  <tbody>\n",
       "    <tr>\n",
       "      <th>count</th>\n",
       "      <td>1000.00000</td>\n",
       "      <td>1000.000000</td>\n",
       "      <td>1000.000000</td>\n",
       "    </tr>\n",
       "    <tr>\n",
       "      <th>mean</th>\n",
       "      <td>66.08900</td>\n",
       "      <td>69.169000</td>\n",
       "      <td>68.054000</td>\n",
       "    </tr>\n",
       "    <tr>\n",
       "      <th>std</th>\n",
       "      <td>15.16308</td>\n",
       "      <td>14.600192</td>\n",
       "      <td>15.195657</td>\n",
       "    </tr>\n",
       "    <tr>\n",
       "      <th>min</th>\n",
       "      <td>0.00000</td>\n",
       "      <td>17.000000</td>\n",
       "      <td>10.000000</td>\n",
       "    </tr>\n",
       "    <tr>\n",
       "      <th>25%</th>\n",
       "      <td>57.00000</td>\n",
       "      <td>59.000000</td>\n",
       "      <td>57.750000</td>\n",
       "    </tr>\n",
       "    <tr>\n",
       "      <th>50%</th>\n",
       "      <td>66.00000</td>\n",
       "      <td>70.000000</td>\n",
       "      <td>69.000000</td>\n",
       "    </tr>\n",
       "    <tr>\n",
       "      <th>75%</th>\n",
       "      <td>77.00000</td>\n",
       "      <td>79.000000</td>\n",
       "      <td>79.000000</td>\n",
       "    </tr>\n",
       "    <tr>\n",
       "      <th>max</th>\n",
       "      <td>100.00000</td>\n",
       "      <td>100.000000</td>\n",
       "      <td>100.000000</td>\n",
       "    </tr>\n",
       "  </tbody>\n",
       "</table>\n",
       "</div>"
      ],
      "text/plain": [
       "       math score  reading score  writing score\n",
       "count  1000.00000    1000.000000    1000.000000\n",
       "mean     66.08900      69.169000      68.054000\n",
       "std      15.16308      14.600192      15.195657\n",
       "min       0.00000      17.000000      10.000000\n",
       "25%      57.00000      59.000000      57.750000\n",
       "50%      66.00000      70.000000      69.000000\n",
       "75%      77.00000      79.000000      79.000000\n",
       "max     100.00000     100.000000     100.000000"
      ]
     },
     "execution_count": 10,
     "metadata": {},
     "output_type": "execute_result"
    }
   ],
   "source": [
    "df.describe() #getting to know the data"
   ]
  },
  {
   "cell_type": "code",
   "execution_count": 11,
   "id": "4b868282",
   "metadata": {},
   "outputs": [
    {
     "data": {
      "text/plain": [
       "female    518\n",
       "male      482\n",
       "Name: gender, dtype: int64"
      ]
     },
     "execution_count": 11,
     "metadata": {},
     "output_type": "execute_result"
    }
   ],
   "source": [
    "df['gender'].value_counts() #counts the number of males and female students"
   ]
  },
  {
   "cell_type": "code",
   "execution_count": 12,
   "id": "2071640c",
   "metadata": {},
   "outputs": [],
   "source": [
    "#Creating a function to graphically show Comparision between number of males and females\n",
    "def b_graph():\n",
    "    plt.plot(figsize=(25,10))\n",
    "    df['gender'].value_counts(normalize = True)\n",
    "    df['gender'].value_counts(dropna = False).plot.bar(color = ['magenta','cyan'])\n",
    "    plt.title('Comparison of Males and Females')\n",
    "    plt.xlabel('gender')\n",
    "    plt.ylabel('count')\n",
    "    plt.show()"
   ]
  },
  {
   "cell_type": "code",
   "execution_count": 13,
   "id": "cc347eb4",
   "metadata": {},
   "outputs": [],
   "source": [
    "#Creating a function to plot a histogram of all the scores in one graph  "
   ]
  },
  {
   "cell_type": "code",
   "execution_count": 14,
   "id": "23495d42",
   "metadata": {},
   "outputs": [],
   "source": [
    "def h_graph():\n",
    "    plt.hist(df['math score'],bins=10)\n",
    "    plt.ylabel('Scores')\n",
    "    plt.xlabel(\"Frequency\")\n",
    "    plt.title(\"Histogram of Math Scores\")\n",
    "    plt.show()"
   ]
  },
  {
   "cell_type": "code",
   "execution_count": 15,
   "id": "90994c14",
   "metadata": {},
   "outputs": [
    {
     "data": {
      "text/plain": [
       "group C    319\n",
       "group D    262\n",
       "group B    190\n",
       "group E    140\n",
       "group A     89\n",
       "Name: race/ethnicity, dtype: int64"
      ]
     },
     "execution_count": 15,
     "metadata": {},
     "output_type": "execute_result"
    }
   ],
   "source": [
    "#Total number of groups in datasets\n",
    "df1=df['race/ethnicity'].value_counts()\n",
    "df1"
   ]
  },
  {
   "cell_type": "code",
   "execution_count": 16,
   "id": "2f5cdee6",
   "metadata": {},
   "outputs": [],
   "source": [
    "#Usng pi chart to represent different races and groups"
   ]
  },
  {
   "cell_type": "code",
   "execution_count": 17,
   "id": "387a7449",
   "metadata": {},
   "outputs": [],
   "source": [
    "def pi_chart():\n",
    "    df1.plot(kind='pie',figsize=(15, 8))\n",
    "    plt.title(\"Pie Chart-Groups\")\n",
    "    plt.show()"
   ]
  },
  {
   "cell_type": "code",
   "execution_count": 18,
   "id": "b31e4373",
   "metadata": {},
   "outputs": [],
   "source": [
    "#Creating a box-plot on the maths score by male and female"
   ]
  },
  {
   "cell_type": "code",
   "execution_count": 19,
   "id": "6fe86889",
   "metadata": {},
   "outputs": [],
   "source": [
    "def box_plot():\n",
    "    plt.boxplot([df[df['gender']=='female']['math score'],df[df['gender']=='male']['math score']],labels=['Female','Male'])\n",
    "    plt.title(\"Boxplot of Maths-Marks scored(gender wise)\")\n",
    "    plt.xlabel(\"gender\")\n",
    "    plt.ylabel(\"maths-score\")\n",
    "    plt.show()"
   ]
  },
  {
   "cell_type": "code",
   "execution_count": 20,
   "id": "4178f84e",
   "metadata": {},
   "outputs": [],
   "source": [
    "#Menu-Driven Code"
   ]
  },
  {
   "cell_type": "code",
   "execution_count": null,
   "id": "562f57c6",
   "metadata": {},
   "outputs": [
    {
     "name": "stdout",
     "output_type": "stream",
     "text": [
      "Enter the option:\n",
      "1.Data-Visualization of Functions\n",
      "2.Data-Visualization of dataset\n",
      "Enter the choice:1\n",
      "Enter the options:\n",
      "1.Algebriac\n",
      "2.Logarithmic\n",
      "3.Exit\n",
      "Enter the sub choice1\n"
     ]
    },
    {
     "data": {
      "image/png": "[encoded data removed]",
      "text/plain": [
       "<Figure size 432x288 with 1 Axes>"
      ]
     },
     "metadata": {
      "needs_background": "light"
     },
     "output_type": "display_data"
    },
    {
     "name": "stdout",
     "output_type": "stream",
     "text": [
      "Invalid-Choice\n",
      "Enter the options:\n",
      "1.Algebriac\n",
      "2.Logarithmic\n",
      "3.Exit\n"
     ]
    }
   ],
   "source": [
    "while(7):\n",
    "    print(\"Enter the option:\")\n",
    "    print(\"1.Data-Visualization of Functions\")\n",
    "    print(\"2.Data-Visualization of dataset\")\n",
    "    c=int(input(\"Enter the choice:\"))\n",
    "    if(c==1):\n",
    "        while(8):\n",
    "            print(\"Enter the options:\\n1.Algebriac\\n2.Logarithmic\\n3.Exit\")\n",
    "            ch=int(input(\"Enter the sub choice\"))\n",
    "            if(ch==1):\n",
    "                algebra_function()\n",
    "            if(ch==2):\n",
    "                Logarithmic()\n",
    "            if(ch==3):\n",
    "                break\n",
    "            else:\n",
    "                print(\"Invalid-Choice\")\n",
    "    if(c==2):\n",
    "        while(9):\n",
    "            print(\"Enter the options to visualise the dataset\\n1.Bar-Plot\\n2.Histogram\\n3.Pie-Chart\\n4.Box-Plot\\n5.Exit\")\n",
    "            ch=int(input(\"Enter the sub option\"))\n",
    "            if(ch==1):\n",
    "                b_graph()\n",
    "            elif(ch==2):\n",
    "                h_graph()\n",
    "            elif(ch==3):\n",
    "                pi_chart()\n",
    "            elif(ch==4):\n",
    "                box_plot()\n",
    "            elif(ch==5):\n",
    "                   break\n",
    "            else:\n",
    "                print(\"Invalid-Choice\")\n",
    "            \n",
    "             \n",
    "                \n",
    "        \n",
    "    \n"
   ]
  },
  {
   "cell_type": "code",
   "execution_count": null,
   "id": "6f757c4b",
   "metadata": {},
   "outputs": [],
   "source": [
    "\n",
    "        "
   ]
  },
  {
   "cell_type": "code",
   "execution_count": null,
   "id": "e6998742",
   "metadata": {},
   "outputs": [],
   "source": []
  },
  {
   "cell_type": "code",
   "execution_count": null,
   "id": "e70cb545",
   "metadata": {},
   "outputs": [],
   "source": []
  }
 ],
 "metadata": {
  "kernelspec": {
   "display_name": "Python 3",
   "language": "python",
   "name": "python3"
  },
  "language_info": {
   "codemirror_mode": {
    "name": "ipython",
    "version": 3
   },
   "file_extension": ".py",
   "mimetype": "text/x-python",
   "name": "python",
   "nbconvert_exporter": "python",
   "pygments_lexer": "ipython3",
   "version": "3.8.8"
  }
 },
 "nbformat": 4,
 "nbformat_minor": 5
}
